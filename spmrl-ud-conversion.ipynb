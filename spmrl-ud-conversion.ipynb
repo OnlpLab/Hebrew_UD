{
 "cells": [
  {
   "cell_type": "code",
   "execution_count": null,
   "metadata": {},
   "outputs": [],
   "source": [
    "!tar -xvf ./data/hebtb.tar.gz"
   ]
  },
  {
   "cell_type": "code",
   "execution_count": null,
   "metadata": {},
   "outputs": [],
   "source": [
    "!pwd"
   ]
  },
  {
   "cell_type": "code",
   "execution_count": null,
   "metadata": {},
   "outputs": [],
   "source": [
    "import pandas as pd\n",
    "import numpy as np\n",
    "import csv"
   ]
  },
  {
   "cell_type": "markdown",
   "metadata": {},
   "source": [
    "## Files "
   ]
  },
  {
   "cell_type": "code",
   "execution_count": null,
   "metadata": {},
   "outputs": [],
   "source": [
    "filepath_spmrl_dev = './data/spmrl-treebank/dev_hebtb-gold.conll'\n",
    "filepath_spmrl_train = './data/spmrl-treebank/train_hebtb-gold.conll'\n",
    "filepath_spmrl_test = './data/spmrl-treebank/test_hebtb-gold.conll'\n",
    "\n",
    "filepath_ud_dev = './data/ud-treebank/he_htb-ud-dev.conllu'\n",
    "filepath_ud_train = './data/ud-treebank/he_htb-ud-train.conllu'\n",
    "filepath_ud_test = './data/ud-treebank/he_htb-ud-test.conllu'\n"
   ]
  },
  {
   "cell_type": "markdown",
   "metadata": {},
   "source": [
    "## DF Preparation"
   ]
  },
  {
   "cell_type": "code",
   "execution_count": null,
   "metadata": {
    "scrolled": true
   },
   "outputs": [],
   "source": [
    "def suit_for_pandas(filepath):\n",
    "    treebank = []\n",
    "    columns = ['ID', 'FORM', 'LEMMA', 'UPOS', 'XPOS', 'FEATS', 'HEAD', 'DEPREL', 'DEPS', 'MISC']\n",
    "    try:\n",
    "        df = pd.read_csv(filepath, sep='\\t', header=None, names=columns, na_filter=False, quoting=csv.QUOTE_NONE)\n",
    "    except:\n",
    "        with open(filepath, 'r') as source:\n",
    "            for line in source.readlines():\n",
    "                if len(line.split('\\t')) == 10:\n",
    "                    treebank.append(tuple(line.strip().split('\\t')))\n",
    "                elif len(line.split('\\t')) == 1:\n",
    "                    treebank.append((line.strip(), '', '', '', '', '', '', '', '', ''))\n",
    "            df = pd.DataFrame(data=treebank, columns=columns)\n",
    "    return df\n"
   ]
  },
  {
   "cell_type": "code",
   "execution_count": null,
   "metadata": {
    "scrolled": true
   },
   "outputs": [],
   "source": [
    "ud_dev = suit_for_pandas(filepath_ud_dev)\n",
    "spmrl_dev = suit_for_pandas(filepath_spmrl_dev)"
   ]
  },
  {
   "cell_type": "code",
   "execution_count": null,
   "metadata": {},
   "outputs": [],
   "source": [
    "ud_train = suit_for_pandas(filepath_ud_train)\n",
    "spmrl_train = suit_for_pandas(filepath_spmrl_train)"
   ]
  },
  {
   "cell_type": "code",
   "execution_count": null,
   "metadata": {
    "scrolled": true
   },
   "outputs": [],
   "source": [
    "ud_dev['sent_id'] = ''\n",
    "spmrl_dev['sent_id'] = ''\n",
    "spmrl_dev['ID'] = spmrl_dev['ID'].apply(lambda x: int(x) if str(x).isdigit() else 0)\n"
   ]
  },
  {
   "cell_type": "code",
   "execution_count": null,
   "metadata": {},
   "outputs": [],
   "source": [
    "ud_train['sent_id'] = ''\n",
    "spmrl_train['sent_id'] = ''\n",
    "spmrl_train['ID'] = spmrl_train['ID'].apply(lambda x: int(x) if str(x).isdigit() else 0)\n"
   ]
  },
  {
   "cell_type": "code",
   "execution_count": null,
   "metadata": {},
   "outputs": [],
   "source": [
    "def sentence_id(df, tb):\n",
    "    if tb=='ud':\n",
    "        sent_id = 0\n",
    "        for i, row in df.iterrows():\n",
    "            if '# sent_id' in row['ID']:\n",
    "                sent_id += 1\n",
    "            else:\n",
    "                df.at[i, 'sent_id'] = sent_id\n",
    "    elif tb=='spmrl':\n",
    "        sent_id = 1\n",
    "        for i, row in df.iterrows():\n",
    "            if row['ID'] == 0:\n",
    "                df.at[i, 'sent_id'] = 0 \n",
    "            try:\n",
    "                if df.loc[i]['ID'] > df.loc[i-1]['ID']:\n",
    "                    df.at[i, 'sent_id'] = sent_id\n",
    "                elif type(df.loc[i-1]['ID']) == str:\n",
    "                    continue\n",
    "                else:\n",
    "                    sent_id += 1\n",
    "                    df.at[i, 'sent_id'] = sent_id\n",
    "            except KeyError as e:\n",
    "                df.at[i, 'sent_id'] = 1\n",
    "            except TypeError as e:\n",
    "                print(df.loc[i]['ID'],df.loc[i-1]['ID'], e)\n",
    "                \n",
    "sentence_id(spmrl_dev, 'spmrl')\n",
    "sentence_id(ud_dev, 'ud')"
   ]
  },
  {
   "cell_type": "code",
   "execution_count": null,
   "metadata": {},
   "outputs": [],
   "source": [
    "sentence_id(spmrl_train, 'spmrl')\n",
    "sentence_id(ud_train, 'ud')"
   ]
  },
  {
   "cell_type": "markdown",
   "metadata": {},
   "source": [
    "## Inspection"
   ]
  },
  {
   "cell_type": "code",
   "execution_count": null,
   "metadata": {
    "scrolled": true
   },
   "outputs": [],
   "source": [
    "ud_dev#[ud_dev['FORM'].str.contains('כל')]"
   ]
  },
  {
   "cell_type": "code",
   "execution_count": null,
   "metadata": {
    "scrolled": true
   },
   "outputs": [],
   "source": [
    "spmrl_dev[spmrl_dev['sent_id'] == 3]#['FEATS'].unique()"
   ]
  },
  {
   "cell_type": "code",
   "execution_count": null,
   "metadata": {
    "scrolled": true
   },
   "outputs": [],
   "source": [
    "spmrl_dev#[spmrl_dev['sent_id'] == 4539].head(60)#['FEATS'].unique()"
   ]
  },
  {
   "cell_type": "code",
   "execution_count": null,
   "metadata": {
    "scrolled": true
   },
   "outputs": [],
   "source": [
    "spmrl_dev[spmrl_dev['XPOS']== \"S_PRN\"]['FEATS'].unique()"
   ]
  },
  {
   "cell_type": "code",
   "execution_count": null,
   "metadata": {
    "scrolled": true
   },
   "outputs": [],
   "source": [
    "spmrl_train[(spmrl_train['XPOS'] == 'DTT') & ~(spmrl_train['FEATS'].str.contains('suf_gen', na=False) )]#['FEATS'].unique()"
   ]
  },
  {
   "cell_type": "code",
   "execution_count": null,
   "metadata": {
    "scrolled": true
   },
   "outputs": [],
   "source": [
    "spmrl_train[spmrl_train['sent_id'] == 106]"
   ]
  },
  {
   "cell_type": "code",
   "execution_count": null,
   "metadata": {
    "scrolled": true
   },
   "outputs": [],
   "source": [
    "ud_train[(ud_train['LEMMA'] == 'או') ]#['XPOS'].unique()"
   ]
  },
  {
   "cell_type": "code",
   "execution_count": null,
   "metadata": {
    "scrolled": true
   },
   "outputs": [],
   "source": [
    "ud_dev = suit_for_pandas('./data/he_htb-ud-dev.conllu')\n",
    "ud_dev.columns = ['ID', 'FORM', 'LEMMA', 'UPOS', 'XPOS', 'FEATS', 'HEAD', 'DEPREL', 'DEPS', 'MISC']"
   ]
  },
  {
   "cell_type": "code",
   "execution_count": null,
   "metadata": {},
   "outputs": [],
   "source": [
    "spmrl_dev[spmrl_dev['XPOS'].str.contains('NN_S_PP', na=False)]"
   ]
  },
  {
   "cell_type": "code",
   "execution_count": null,
   "metadata": {
    "scrolled": true
   },
   "outputs": [],
   "source": [
    "ud_dev[(ud_dev['XPOS'].str.contains('BN', na=False)) & (ud_dev['FEATS'].str.contains('HIFIL', na=False))]"
   ]
  },
  {
   "cell_type": "code",
   "execution_count": null,
   "metadata": {
    "scrolled": true
   },
   "outputs": [],
   "source": [
    "spmrl_dev.to_csv('./data/spmrl-treebank/numbered_dev.csv')"
   ]
  },
  {
   "cell_type": "markdown",
   "metadata": {},
   "source": [
    "## Segmentation"
   ]
  },
  {
   "cell_type": "code",
   "execution_count": null,
   "metadata": {},
   "outputs": [],
   "source": [
    "segmented_spmrl_df = pd.DataFrame(columns=['ID', 'FORM', 'LEMMA', 'UPOS', 'XPOS', 'FEATS', 'HEAD', 'DEPREL', 'DEPS', 'MISC', 'sent_id'])"
   ]
  },
  {
   "cell_type": "code",
   "execution_count": null,
   "metadata": {},
   "outputs": [],
   "source": [
    "pronouns = {\n",
    "     'suf_gen=F|suf_gen=M|suf_num=P|suf_per=1': '_אנחנו',\n",
    "     'suf_gen=F|suf_gen=M|suf_num=S|suf_per=1': '_אני',\n",
    "     'suf_gen=M|suf_num=S|suf_per=2': '_אתה',\n",
    "     'suf_gen=F|suf_num=S|suf_per=2': '_את',\n",
    "     'suf_gen=M|suf_num=P|suf_per=2': '_אתם',\n",
    "     'suf_gen=F|suf_num=P|suf_per=2': '_אתן',\n",
    "     'suf_gen=F|suf_num=P|suf_per=3': '_הן',\n",
    "     'suf_gen=F|suf_num=S|suf_per=3': '_היא',\n",
    "     'suf_gen=M|suf_num=P|suf_per=3': '_הם',\n",
    "     'suf_gen=M|suf_num=S|suf_per=3': '_הוא'\n",
    "}\n",
    "\n",
    "pronouns"
   ]
  },
  {
   "cell_type": "code",
   "execution_count": null,
   "metadata": {},
   "outputs": [],
   "source": [
    "for i, row in spmrl_dev.iterrows():\n",
    "    suffix_feats = \"|\".join([x for x in row['FEATS'].split(\"|\") if 'suf' in x])\n",
    "    noun_feats = \"|\".join([x for x in row['FEATS'].split(\"|\") if 'suf' not in x])\n",
    "    clean_suffix_feats = \"|\".join([x.replace(\"suf_\", \"\") for x in row['FEATS'].split(\"|\") if 'suf' in x])\n",
    "    if 'suf_' in row['FEATS'] and row['UPOS'] == 'NN':\n",
    "#     if row['XPOS'] == 'NN_S_PP' or row['XPOS'] == 'S_PP':\n",
    "        segmented_spmrl_df = segmented_spmrl_df.append({'ID': row['ID'], 'FORM': row['LEMMA'] + '_', 'LEMMA': row['LEMMA'],  'UPOS': 'NOUN', \n",
    "                                                        'XPOS': 'NOUN','FEATS': 'Definite=Def|' + noun_feats, 'HEAD': row['HEAD'], \n",
    "                                                        'DEPREL': row['DEPREL'], 'DEPS': row['DEPS'], 'MISC': row['MISC'],'sent_id': row['sent_id']}, ignore_index=True)\n",
    "\n",
    "        segmented_spmrl_df = segmented_spmrl_df.append({'ID': 0, 'FORM': '_של_', 'LEMMA': 'של',  'UPOS': 'ADP', \n",
    "                                                        'XPOS': 'ADP','FEATS': '_', 'HEAD': int(row['ID']) + 2, \n",
    "                                                        'DEPREL': 'case:gen', 'DEPS': row['DEPS'], 'MISC': row['MISC'],'sent_id': row['sent_id']}, ignore_index=True)\n",
    "\n",
    "        segmented_spmrl_df = segmented_spmrl_df.append({'ID': 0, 'FORM': pronouns[suffix_feats], 'LEMMA': 'הוא',  'UPOS': 'PRON', \n",
    "                                                        'XPOS': 'PRON','FEATS': \"Case=Gen|\" + clean_suffix_feats + \"|PronType=Prs\", 'HEAD': int(row['ID']) + 2, \n",
    "                                                            'DEPREL': 'nmod:poss', 'DEPS': row['DEPS'], 'MISC': row['MISC'],'sent_id': row['sent_id']}, ignore_index=True)\n",
    "    elif row['XPOS'] == 'S_PRN':\n",
    "        segmented_spmrl_df.at[i-1, 'XPOS'] = 'ADP'\n",
    "        segmented_spmrl_df = segmented_spmrl_df.append({'ID': row['ID'], 'FORM': row['LEMMA'] + '_' ,'LEMMA': row['LEMMA'],  'UPOS': 'PRON', \n",
    "                            'XPOS': 'PRON', 'FEATS': segmented_spmrl_df.loc[i-1]['FEATS'] + '|PronType=Prs', 'HEAD': row['HEAD'], \n",
    "                            'DEPREL': row['DEPREL'], 'DEPS': row['DEPS'], 'MISC': row['MISC'],'sent_id': row['sent_id']}, ignore_index=True)\n",
    "        segmented_spmrl_df.at[i-1, 'FEATS'] = 'Case=Gen'\n",
    "\n",
    "    elif row['XPOS'] == 'DTT' or row['XPOS'] == 'DT':\n",
    "        if 'suf_' in row['FEATS']:\n",
    "            segmented_spmrl_df = segmented_spmrl_df.append({'ID': row['ID'], 'FORM': row['FORM'], 'LEMMA': row['LEMMA'],  'UPOS': 'NOUN', \n",
    "                                                        'XPOS': 'NOUN','FEATS': row['FEATS'], 'HEAD': row['HEAD'], \n",
    "                                                        'DEPREL': row['DEPREL'], 'DEPS': row['DEPS'], 'MISC': row['MISC'],'sent_id': row['sent_id']}, ignore_index=True)\n",
    "        \n",
    "            segmented_spmrl_df = segmented_spmrl_df.append({'ID': 0, 'FORM': \"_\" + pronouns[suffix_feats], 'LEMMA': 'הוא',  'UPOS': 'PRON', \n",
    "                                                        'XPOS': 'PRON','FEATS': \"Case=Gen|\"+clean_suffix_feats + \"|PronType=Prs\", 'HEAD': int(row['ID']) + 1, \n",
    "                                                        'DEPREL': 'nmod:poss', 'DEPS': row['DEPS'], 'MISC': row['MISC'],'sent_id': row['sent_id']}, ignore_index=True)\n",
    "        else:\n",
    "            segmented_spmrl_df = segmented_spmrl_df.append(row, ignore_index=True)            \n",
    "    elif row['XPOS'] == 'S_PRP':\n",
    "        segmented_spmrl_df = segmented_spmrl_df.append({'ID': row['ID'], 'FORM': row['FORM'], 'LEMMA': row['LEMMA'],  'UPOS': row['UPOS'], \n",
    "                                                        'XPOS': row['XPOS'],'FEATS': row['FEATS'] + \"|PronType=Prs|Reflex=Yes\", 'HEAD': row['HEAD'], \n",
    "                                                        'DEPREL': row['DEPREL'], 'DEPS': row['DEPS'], 'MISC': row['MISC'],'sent_id': row['sent_id']}, ignore_index=True)\n",
    "    else:\n",
    "        segmented_spmrl_df = segmented_spmrl_df.append(row, ignore_index=True)"
   ]
  },
  {
   "cell_type": "code",
   "execution_count": null,
   "metadata": {},
   "outputs": [],
   "source": [
    "def segement_df(unsegmented_df):\n",
    "    output_df = pd.DataFrame(columns=['ID', 'FORM', 'LEMMA', 'UPOS', 'XPOS', 'FEATS', 'HEAD', 'DEPREL', 'DEPS', 'MISC', 'sent_id'])\n",
    "    for i, row in unsegmented_df.iterrows():\n",
    "        suffix_feats = \"|\".join([x for x in row['FEATS'].split(\"|\") if 'suf' in x])\n",
    "        noun_feats = \"|\".join([x for x in row['FEATS'].split(\"|\") if 'suf' not in x])\n",
    "        clean_suffix_feats = \"|\".join([x.replace(\"suf_\", \"\") for x in row['FEATS'].split(\"|\") if 'suf' in x])\n",
    "        if 'suf_' in row['FEATS'] and row['UPOS'] == 'NN':\n",
    "    #     if row['XPOS'] == 'NN_S_PP' or row['XPOS'] == 'S_PP':\n",
    "            output_df = output_df.append({'ID': row['ID'], 'FORM': row['LEMMA'] + '_', 'LEMMA': row['LEMMA'],  'UPOS': 'NOUN', \n",
    "                                                            'XPOS': 'NOUN','FEATS': 'Definite=Def|' + noun_feats, 'HEAD': row['HEAD'], \n",
    "                                                            'DEPREL': row['DEPREL'], 'DEPS': row['DEPS'], 'MISC': row['MISC'],'sent_id': row['sent_id']}, ignore_index=True)\n",
    "\n",
    "            output_df = output_df.append({'ID': 0, 'FORM': '_של_', 'LEMMA': 'של',  'UPOS': 'ADP', \n",
    "                                                            'XPOS': 'ADP','FEATS': '_', 'HEAD': int(row['ID']) + 2, \n",
    "                                                            'DEPREL': 'case:gen', 'DEPS': row['DEPS'], 'MISC': row['MISC'],'sent_id': row['sent_id']}, ignore_index=True)\n",
    "\n",
    "            output_df = output_df.append({'ID': 0, 'FORM': pronouns[suffix_feats], 'LEMMA': 'הוא',  'UPOS': 'PRON', \n",
    "                                                            'XPOS': 'PRON','FEATS': \"Case=Gen|\" + clean_suffix_feats + \"|PronType=Prs\", 'HEAD': int(row['ID']) + 2, \n",
    "                                                                'DEPREL': 'nmod:poss', 'DEPS': row['DEPS'], 'MISC': row['MISC'],'sent_id': row['sent_id']}, ignore_index=True)\n",
    "        elif row['XPOS'] == 'S_PRN':\n",
    "            output_df.at[i-1, 'XPOS'] = 'ADP'\n",
    "            output_df = output_df.append({'ID': row['ID'], 'FORM': row['LEMMA'] + '_' ,'LEMMA': row['LEMMA'],  'UPOS': 'PRON', \n",
    "                                'XPOS': 'PRON', 'FEATS': output_df.loc[i-1]['FEATS'] + '|PronType=Prs', 'HEAD': row['HEAD'], \n",
    "                                'DEPREL': row['DEPREL'], 'DEPS': row['DEPS'], 'MISC': row['MISC'],'sent_id': row['sent_id']}, ignore_index=True)\n",
    "            output_df.at[i-1, 'FEATS'] = 'Case=Gen'\n",
    "\n",
    "        elif row['XPOS'] == 'DTT' or row['XPOS'] == 'DT':\n",
    "            if 'suf_' in row['FEATS']:\n",
    "                output_df = output_df.append({'ID': row['ID'], 'FORM': row['FORM'], 'LEMMA': row['LEMMA'],  'UPOS': 'NOUN', \n",
    "                                                            'XPOS': 'NOUN','FEATS': row['FEATS'], 'HEAD': row['HEAD'], \n",
    "                                                            'DEPREL': row['DEPREL'], 'DEPS': row['DEPS'], 'MISC': row['MISC'],'sent_id': row['sent_id']}, ignore_index=True)\n",
    "\n",
    "                output_df = output_df.append({'ID': 0, 'FORM': \"_\" + pronouns[suffix_feats], 'LEMMA': 'הוא',  'UPOS': 'PRON', \n",
    "                                                            'XPOS': 'PRON','FEATS': \"Case=Gen|\"+clean_suffix_feats + \"|PronType=Prs\", 'HEAD': int(row['ID']) + 1, \n",
    "                                                            'DEPREL': 'nmod:poss', 'DEPS': row['DEPS'], 'MISC': row['MISC'],'sent_id': row['sent_id']}, ignore_index=True)\n",
    "            else:\n",
    "                output_df = output_df.append(row, ignore_index=True)            \n",
    "        elif row['XPOS'] == 'S_PRP':\n",
    "            output_df = output_df.append({'ID': row['ID'], 'FORM': row['FORM'], 'LEMMA': row['LEMMA'],  'UPOS': row['UPOS'], \n",
    "                                                            'XPOS': row['XPOS'],'FEATS': row['FEATS'] + \"|PronType=Prs|Reflex=Yes\", 'HEAD': row['HEAD'], \n",
    "                                                            'DEPREL': row['DEPREL'], 'DEPS': row['DEPS'], 'MISC': row['MISC'],'sent_id': row['sent_id']}, ignore_index=True)\n",
    "        else:\n",
    "            output_df = output_df.append(row, ignore_index=True)\n",
    "    return output_df"
   ]
  },
  {
   "cell_type": "code",
   "execution_count": null,
   "metadata": {
    "scrolled": true
   },
   "outputs": [],
   "source": [
    "seg_spmrl_train = pd.DataFrame(columns=['ID', 'FORM', 'LEMMA', 'UPOS', 'XPOS', 'FEATS', 'HEAD', 'DEPREL', 'DEPS', 'MISC', 'sent_id'])\n",
    "for i, row in spmrl_train.iterrows():\n",
    "    segement_df(row, seg_spmrl_train)"
   ]
  },
  {
   "cell_type": "code",
   "execution_count": null,
   "metadata": {},
   "outputs": [],
   "source": [
    "seg_spmrl_df = segement_df(spmrl_dev)"
   ]
  },
  {
   "cell_type": "code",
   "execution_count": null,
   "metadata": {
    "scrolled": true
   },
   "outputs": [],
   "source": [
    "seg_spmrl_df"
   ]
  },
  {
   "cell_type": "code",
   "execution_count": null,
   "metadata": {
    "scrolled": true
   },
   "outputs": [],
   "source": [
    "segmented_spmrl_df[segmented_spmrl_df['sent_id'] == 5]#['FEATS'].unique()"
   ]
  },
  {
   "cell_type": "code",
   "execution_count": null,
   "metadata": {},
   "outputs": [],
   "source": [
    "len(ud_dev_no_comment)"
   ]
  },
  {
   "cell_type": "code",
   "execution_count": null,
   "metadata": {},
   "outputs": [],
   "source": [
    "len(segmented_spmrl_df)"
   ]
  },
  {
   "cell_type": "markdown",
   "metadata": {},
   "source": [
    "## Alignment"
   ]
  },
  {
   "cell_type": "code",
   "execution_count": null,
   "metadata": {
    "scrolled": true
   },
   "outputs": [],
   "source": [
    "ud_dev[ud_dev['ID'].str.contains(\"#\")]"
   ]
  },
  {
   "cell_type": "code",
   "execution_count": null,
   "metadata": {
    "scrolled": true
   },
   "outputs": [],
   "source": [
    "segmented_spmrl_df"
   ]
  },
  {
   "cell_type": "code",
   "execution_count": null,
   "metadata": {},
   "outputs": [],
   "source": [
    "ud_dev_no_comment = ud_dev[~ud_dev['ID'].str.contains('#|-')].reset_index(drop=True)"
   ]
  },
  {
   "cell_type": "code",
   "execution_count": null,
   "metadata": {
    "scrolled": true
   },
   "outputs": [],
   "source": [
    "for i, row in ud_dev_no_comment.iterrows(): \n",
    "    if spmrl_dev.loc[i]['FORM'] != row['FORM']:\n",
    "        if '_' not in row['FORM']:\n",
    "            print(segmented_spmrl_df.loc[i][['ID', 'FORM', 'sent_id']], ud_dev_no_comment.loc[i][['ID', 'FORM', 'sent_id']])"
   ]
  },
  {
   "cell_type": "code",
   "execution_count": null,
   "metadata": {
    "scrolled": true
   },
   "outputs": [],
   "source": [
    "ud_dev_no_comment"
   ]
  },
  {
   "cell_type": "code",
   "execution_count": null,
   "metadata": {
    "scrolled": true
   },
   "outputs": [],
   "source": [
    "ud_dev[ud_dev['sent_id'] == 4]"
   ]
  },
  {
   "cell_type": "code",
   "execution_count": null,
   "metadata": {
    "scrolled": true
   },
   "outputs": [],
   "source": [
    "segmented_spmrl_df[(segmented_spmrl_df['ID'] == 0) & (segmented_spmrl_df['MISC'] == '_')]"
   ]
  },
  {
   "cell_type": "markdown",
   "metadata": {},
   "source": [
    "## Conversion Inspection"
   ]
  },
  {
   "cell_type": "code",
   "execution_count": null,
   "metadata": {
    "scrolled": true
   },
   "outputs": [],
   "source": [
    "segmented_spmrl_df[segmented_spmrl_df['FEATS'].str.contains('gen=', na=False)]['XPOS'].unique()"
   ]
  },
  {
   "cell_type": "code",
   "execution_count": null,
   "metadata": {},
   "outputs": [],
   "source": []
  },
  {
   "cell_type": "markdown",
   "metadata": {},
   "source": [
    "## Conversion"
   ]
  },
  {
   "cell_type": "code",
   "execution_count": null,
   "metadata": {
    "scrolled": true
   },
   "outputs": [],
   "source": [
    "# gender\n",
    "def simple_features_conversion(column, conversions):\n",
    "    for old,new in conversions.items():\n",
    "        column = column.replace(old,new)\n",
    "\n",
    "    return column\n",
    "    \n",
    "basic_features = {'gen=F|gen=M': 'Gender=Fem,Masc', 'gen=F': 'Gender=Fem', 'gen=M':'Gender=Masc',\n",
    "               'num=S':'Number=Sing',  'num=P': 'Number=Plur',\n",
    "                'per=A': 'Person=1,2,3', 'per=': 'Person=', \n",
    "                'tense=BEINONI': 'VerbForm=Part', 'tense=TOINFINITIVE': 'VerbForm=Inf', 'tense=IMPERATIVE': 'Mood=Imp',\n",
    "                'tense=PAST': 'Tense=Past', 'tense=FUTURE': 'Tense=Fut'\n",
    "               }\n",
    "\n",
    "seg_spmrl_df.loc[:, 'FEATS']  = seg_spmrl_df['FEATS'].apply(lambda x: simple_features_conversion(x, basic_features))"
   ]
  },
  {
   "cell_type": "code",
   "execution_count": null,
   "metadata": {
    "scrolled": true
   },
   "outputs": [],
   "source": [
    "seg_spmrl_df#[seg_spmrl_df['FORM'] == 'היה']#['FEATS'].unique()"
   ]
  },
  {
   "cell_type": "code",
   "execution_count": null,
   "metadata": {
    "scrolled": true
   },
   "outputs": [],
   "source": [
    "ud_train[(ud_train['FEATS'].str.contains('HebExistential=True'))]# & (ud_train['XPOS'].str.contains('VERB'))]['FEATS'].unique()"
   ]
  },
  {
   "cell_type": "code",
   "execution_count": null,
   "metadata": {},
   "outputs": [],
   "source": []
  },
  {
   "cell_type": "code",
   "execution_count": null,
   "metadata": {},
   "outputs": [],
   "source": [
    "def pos_conversion(column, conversions):\n",
    "    if column in conversions:\n",
    "        column = conversions[column]\n",
    "    return column\n",
    "\n",
    "basic_pos = {\n",
    "        'REL': 'SCONJ', 'COM': 'SCONJ', 'CONJ': 'CCONJ', 'IN': 'ADP', 'NNP': 'PROPN', 'PREPOSITION': 'ADP',\n",
    "        'yyCLN':'PUNCT', 'yyCM':'PUNCT', 'yyDASH':'PUNCT', 'yyDOT':'PUNCT', 'yyELPS':'PUNCT', \n",
    "        'yyEXCL':'PUNCT', 'yyLRB':'PUNCT', 'yyQM':'PUNCT' \n",
    "}\n",
    "seg_spmrl_df.loc[:, 'UPOS']  = seg_spmrl_df['XPOS'].apply(lambda x: pos_conversion(x, basic_pos))    "
   ]
  },
  {
   "cell_type": "code",
   "execution_count": null,
   "metadata": {},
   "outputs": [],
   "source": [
    "def pos_convert_entire_line(row, conversions):\n",
    "    xpos = row['XPOS']\n",
    "#     if xpos in conversions:\n",
    "    if xpos in entire_line_pos_conversion:\n",
    "        upos = conversions[xpos]['pos']\n",
    "        if conversions[xpos]['deprel'] == 'deprel':\n",
    "            deprel = row['DEPREL']\n",
    "        else:\n",
    "            deprel = conversions[xpos]['deprel']\n",
    "        if conversions[xpos]['feats'] == 'feats':\n",
    "            feats = row['FEATS']\n",
    "        elif conversions[xpos]['feats']['old'] == '_':\n",
    "            feats = conversions[xpos]['feats']['new']\n",
    "        elif conversions[xpos]['feats']['old'] == 'feats+':\n",
    "            feats = row['FEATS'] + conversions[xpos]['feats']['new']\n",
    "        elif conversions[xpos]['feats']['old'] == '+feats':\n",
    "            feats = conversions[xpos]['feats']['new'] + row['FEATS']\n",
    "        elif conversions[xpos]['feats']['old'] == '+feats+':\n",
    "            feats = conversions[xpos]['feats']['new'][0] + row['FEATS'] + conversions[xpos]['feats']['new'][1]\n",
    "        return pd.Series([upos, deprel, feats])\n",
    "    else:\n",
    "        return pd.Series([row['XPOS'], row['DEPREL'], row['FEATS']])\n",
    "    \n",
    "\n",
    "entire_line_pos_conversion = {\n",
    "    'AT': {'pos': 'ADP', 'deprel': 'case:acc', 'feats': {'old': '_', 'new': 'Case=Acc'}},\n",
    "    'BN': {'pos': 'VERB', 'deprel': 'deprel', 'feats': {'old': 'feats+', 'new': \"|VerbForm=Part\"}},\n",
    "    'BNT': {'pos': 'VERB', 'deprel': 'deprel', 'feats': {'old': '+feats+', 'new': ['Definite=Cons|', '|VerbForm=Part']}},\n",
    "    'CD': {'pos': 'NUM', 'deprel': 'deprel', 'feats': 'feats'},\n",
    "    'CDT': {'pos': 'NUM', 'deprel': 'deprel', 'feats': {'old': '+feats', 'new': \"Definite=Cons|\"}},\n",
    "    'COP': {'pos': 'AUX', 'deprel': 'deprel', 'feats': {'old': 'feats+', 'new': \"|VerbType=Cop|VerbForm=Part\"}},\n",
    "    'DEF': {'pos': 'DET', 'deprel': 'deprel', 'feats': {'old': '_', 'new': 'PronType=Art'}},\n",
    "    'EX': {'pos': 'VERB', 'deprel': 'deprel', 'feats': {'old': '_', 'new': 'HebExistential=True'}},\n",
    "\n",
    "\n",
    "}\n",
    "\n",
    "seg_spmrl_df[['UPOS', 'DEPREL', 'FEATS']] = seg_spmrl_df.apply(lambda x: pos_convert_entire_line(x, entire_line_pos_conversion), axis=1)"
   ]
  }
 ],
 "metadata": {
  "kernelspec": {
   "display_name": "Python 3",
   "language": "python",
   "name": "python3"
  },
  "language_info": {
   "codemirror_mode": {
    "name": "ipython",
    "version": 3
   },
   "file_extension": ".py",
   "mimetype": "text/x-python",
   "name": "python",
   "nbconvert_exporter": "python",
   "pygments_lexer": "ipython3",
   "version": "3.7.3"
  }
 },
 "nbformat": 4,
 "nbformat_minor": 2
}
